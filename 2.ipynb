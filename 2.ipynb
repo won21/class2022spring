{
  "nbformat": 4,
  "nbformat_minor": 0,
  "metadata": {
    "colab": {
      "provenance": [],
      "authorship_tag": "ABX9TyOZ7wt6fx4Nra9dUgXrZ2SY",
      "include_colab_link": true
    },
    "kernelspec": {
      "name": "python3",
      "display_name": "Python 3"
    },
    "language_info": {
      "name": "python"
    }
  },
  "cells": [
    {
      "cell_type": "markdown",
      "metadata": {
        "id": "view-in-github",
        "colab_type": "text"
      },
      "source": [
        "<a href=\"https://colab.research.google.com/github/won21/class2022spring/blob/main/2.ipynb\" target=\"_parent\"><img src=\"https://colab.research.google.com/assets/colab-badge.svg\" alt=\"Open In Colab\"/></a>"
      ]
    },
    {
      "cell_type": "code",
      "execution_count": 8,
      "metadata": {
        "colab": {
          "base_uri": "https://localhost:8080/"
        },
        "id": "9ljVmpVE0T8_",
        "outputId": "a6ad69c4-336f-4d9c-b5bd-7acc36cbe1f0"
      },
      "outputs": [
        {
          "output_type": "stream",
          "name": "stdout",
          "text": [
            "6\n"
          ]
        }
      ],
      "source": [
        "a = [[1],[2,3],[4,5,6]]\n",
        "n = 0\n",
        "for b in a:\n",
        "  for d in b:\n",
        "    n = n + 1\n",
        "print(n)"
      ]
    },
    {
      "cell_type": "code",
      "source": [
        "n=[1,2,3,4]\n",
        "for i in range(len(n)):\n",
        "  print(i)"
      ],
      "metadata": {
        "colab": {
          "base_uri": "https://localhost:8080/"
        },
        "id": "kZZEURDgbOJR",
        "outputId": "26645c2f-eeb7-4276-a43c-a26e2082fbae"
      },
      "execution_count": 9,
      "outputs": [
        {
          "output_type": "stream",
          "name": "stdout",
          "text": [
            "0\n",
            "1\n",
            "2\n",
            "3\n"
          ]
        }
      ]
    },
    {
      "cell_type": "code",
      "source": [
        "b=[1,'a', {'a':[3,6], 'b':[9]},'b']\n",
        "print(b[-2]['b'][-1])"
      ],
      "metadata": {
        "colab": {
          "base_uri": "https://localhost:8080/"
        },
        "id": "3vwCDMADc2MI",
        "outputId": "9cec929d-9906-488b-a685-45e05f9a44a5"
      },
      "execution_count": 10,
      "outputs": [
        {
          "output_type": "stream",
          "name": "stdout",
          "text": [
            "9\n"
          ]
        }
      ]
    },
    {
      "cell_type": "code",
      "source": [
        "d=['th','s']\n",
        "print('i'.join(d)[-3])"
      ],
      "metadata": {
        "colab": {
          "base_uri": "https://localhost:8080/"
        },
        "id": "z-V5f4ipdfg9",
        "outputId": "0712fe8e-ce4e-4811-d0ac-895c47338734"
      },
      "execution_count": 15,
      "outputs": [
        {
          "output_type": "stream",
          "name": "stdout",
          "text": [
            "h\n"
          ]
        }
      ]
    },
    {
      "cell_type": "code",
      "source": [
        "e=[1,1.5,'k', [1,[2], {'a', 'apple'}]]\n",
        "for x in e:\n",
        "  if type(x)=='dict':\n",
        "    print(x)\n",
        "  else:\n",
        "    if x =='k':\n",
        "      print(x)"
      ],
      "metadata": {
        "colab": {
          "base_uri": "https://localhost:8080/"
        },
        "id": "aH6erTRJgN_D",
        "outputId": "98b35fe4-e37a-46b3-d696-431658378942"
      },
      "execution_count": 20,
      "outputs": [
        {
          "output_type": "stream",
          "name": "stdout",
          "text": [
            "k\n"
          ]
        }
      ]
    },
    {
      "cell_type": "code",
      "source": [
        "t=0\n",
        "for p in range(3):\n",
        "  if p <=1:\n",
        "    for q in range(4):\n",
        "      t +=q\n",
        "      for r in range(2):\n",
        "        t +=r\n",
        "print(t*r)"
      ],
      "metadata": {
        "colab": {
          "base_uri": "https://localhost:8080/"
        },
        "id": "4Jaw18Usn8_T",
        "outputId": "488b0468-1643-41b3-fa76-76ea2cee1136"
      },
      "execution_count": 21,
      "outputs": [
        {
          "output_type": "stream",
          "name": "stdout",
          "text": [
            "20\n"
          ]
        }
      ]
    },
    {
      "cell_type": "code",
      "source": [
        "a=[1,2,3,4]\n",
        "if len(a)==3:\n",
        "  print(0)\n",
        "else:\n",
        "  print(1)"
      ],
      "metadata": {
        "colab": {
          "base_uri": "https://localhost:8080/"
        },
        "id": "qzzmWrxypjWm",
        "outputId": "47136a88-9a0d-4414-cc3a-a97c64fdc602"
      },
      "execution_count": 22,
      "outputs": [
        {
          "output_type": "stream",
          "name": "stdout",
          "text": [
            "1\n"
          ]
        }
      ]
    },
    {
      "cell_type": "code",
      "source": [
        "a=(5.2, {1:'apple', 'k':4.9}, (9.1, [10, 12.1]))\n",
        "print(int(a[2][-1][0]))"
      ],
      "metadata": {
        "colab": {
          "base_uri": "https://localhost:8080/"
        },
        "id": "X5lUBHmkpzo0",
        "outputId": "98c2bc55-1202-491e-b13c-cb65b4ac7d8c"
      },
      "execution_count": 23,
      "outputs": [
        {
          "output_type": "stream",
          "name": "stdout",
          "text": [
            "10\n"
          ]
        }
      ]
    }
  ]
}