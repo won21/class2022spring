{
  "nbformat": 4,
  "nbformat_minor": 0,
  "metadata": {
    "colab": {
      "name": "20220316.ipynb",
      "provenance": [],
      "collapsed_sections": [],
      "authorship_tag": "ABX9TyPhO3BhGV62rFC5U8pgWl2S",
      "include_colab_link": true
    },
    "kernelspec": {
      "name": "python3",
      "display_name": "Python 3"
    },
    "language_info": {
      "name": "python"
    }
  },
  "cells": [
    {
      "cell_type": "markdown",
      "metadata": {
        "id": "view-in-github",
        "colab_type": "text"
      },
      "source": [
        "<a href=\"https://colab.research.google.com/github/won21/class2022spring/blob/main/20220316.ipynb\" target=\"_parent\"><img src=\"https://colab.research.google.com/assets/colab-badge.svg\" alt=\"Open In Colab\"/></a>"
      ]
    },
    {
      "cell_type": "code",
      "execution_count": null,
      "metadata": {
        "id": "B7MYu8PhtISW"
      },
      "outputs": [],
      "source": [
        ""
      ]
    },
    {
      "cell_type": "markdown",
      "source": [
        "1. variables \n",
        "1) string\n",
        "2) list\n",
        "3) numbers - int, float\n",
        "4) dict\n",
        "2. syntax (조건if/반복for)\n",
        "3. function\n",
        "4. packages"
      ],
      "metadata": {
        "id": "VIw4f-k_tY51"
      }
    },
    {
      "cell_type": "code",
      "source": [
        "a=1; print(type(a))"
      ],
      "metadata": {
        "colab": {
          "base_uri": "https://localhost:8080/"
        },
        "id": "qUwrzNPUt6cc",
        "outputId": "67abef0d-dfcb-4de3-f9e6-32c03a3e0852"
      },
      "execution_count": 1,
      "outputs": [
        {
          "output_type": "stream",
          "name": "stdout",
          "text": [
            "<class 'int'>\n"
          ]
        }
      ]
    },
    {
      "cell_type": "code",
      "source": [
        "a=1.0; print(type(a))"
      ],
      "metadata": {
        "colab": {
          "base_uri": "https://localhost:8080/"
        },
        "id": "_sPj-K5wzC3A",
        "outputId": "26b7c17f-30d8-4c1d-9b7d-54dd7bf38e63"
      },
      "execution_count": 2,
      "outputs": [
        {
          "output_type": "stream",
          "name": "stdout",
          "text": [
            "<class 'float'>\n"
          ]
        }
      ]
    },
    {
      "cell_type": "code",
      "source": [
        "a='1023'; print(type(a)); print((a[2]))"
      ],
      "metadata": {
        "colab": {
          "base_uri": "https://localhost:8080/"
        },
        "id": "kJE8E3cBzQkM",
        "outputId": "3d10704c-a75a-4ea5-96ef-3a3c4806135c"
      },
      "execution_count": 6,
      "outputs": [
        {
          "output_type": "stream",
          "name": "stdout",
          "text": [
            "<class 'str'>\n",
            "2\n"
          ]
        }
      ]
    },
    {
      "cell_type": "markdown",
      "source": [
        "string:'    '"
      ],
      "metadata": {
        "id": "P0P5IaMlzob_"
      }
    },
    {
      "cell_type": "code",
      "source": [
        "a= [1,2,3,4];print(type(a));(print(a[0]))"
      ],
      "metadata": {
        "colab": {
          "base_uri": "https://localhost:8080/"
        },
        "id": "TgYMYQtyzk7L",
        "outputId": "1bfda95c-3e21-42b9-d4cd-36bf39f3ccc5"
      },
      "execution_count": 7,
      "outputs": [
        {
          "output_type": "stream",
          "name": "stdout",
          "text": [
            "<class 'list'>\n",
            "1\n"
          ]
        }
      ]
    },
    {
      "cell_type": "markdown",
      "source": [
        "list: [    ]"
      ],
      "metadata": {
        "id": "irYlZLrz0Nq_"
      }
    },
    {
      "cell_type": "code",
      "source": [
        "a=[1,'a',[3,'4']]; print(type(a)); print(a[0]); print(a[2]); print(a[2][1])"
      ],
      "metadata": {
        "colab": {
          "base_uri": "https://localhost:8080/"
        },
        "id": "tApQIRAm0RyA",
        "outputId": "4d182d41-de40-4e98-8a57-dba66121154c"
      },
      "execution_count": 9,
      "outputs": [
        {
          "output_type": "stream",
          "name": "stdout",
          "text": [
            "<class 'list'>\n",
            "1\n",
            "[3, '4']\n",
            "4\n"
          ]
        }
      ]
    },
    {
      "cell_type": "markdown",
      "source": [
        "print(a[2][1]): 2번째 거의 첫번째"
      ],
      "metadata": {
        "id": "pb8JrJ_O1ctt"
      }
    },
    {
      "cell_type": "code",
      "source": [
        "a={'a':'apple', 'b':'pear', 'c':2020}\n",
        "print(type(a))\n",
        "print(a['a'])"
      ],
      "metadata": {
        "colab": {
          "base_uri": "https://localhost:8080/"
        },
        "id": "FPrQc4jX1oag",
        "outputId": "59d9b50b-f978-4040-92e2-5e10a62a3914"
      },
      "execution_count": 12,
      "outputs": [
        {
          "output_type": "stream",
          "name": "stdout",
          "text": [
            "<class 'dict'>\n",
            "apple\n"
          ]
        }
      ]
    },
    {
      "cell_type": "markdown",
      "source": [
        "dict: :"
      ],
      "metadata": {
        "id": "gthMpOFk5esC"
      }
    },
    {
      "cell_type": "code",
      "source": [
        "s='abcdef'\n",
        "print(s[-1], s[-6], s[1:3])"
      ],
      "metadata": {
        "colab": {
          "base_uri": "https://localhost:8080/"
        },
        "id": "_TeI3nhc5lkg",
        "outputId": "01b25215-366f-4994-b505-a001781c15f9"
      },
      "execution_count": 15,
      "outputs": [
        {
          "output_type": "stream",
          "name": "stdout",
          "text": [
            "f a bc\n"
          ]
        }
      ]
    },
    {
      "cell_type": "markdown",
      "source": [
        "-1: the last one\n",
        "-6: 거꾸로\n",
        "[a:b]: a에서서 b까지(b는 미포함)\n"
      ],
      "metadata": {
        "id": "-fJzl0rr7H-D"
      }
    },
    {
      "cell_type": "code",
      "source": [
        "len(s)"
      ],
      "metadata": {
        "colab": {
          "base_uri": "https://localhost:8080/"
        },
        "id": "UQnk-thS7p4k",
        "outputId": "2f749ad6-0ba8-4eed-96a2-90fe1b1eb322"
      },
      "execution_count": 16,
      "outputs": [
        {
          "output_type": "execute_result",
          "data": {
            "text/plain": [
              "6"
            ]
          },
          "metadata": {},
          "execution_count": 16
        }
      ]
    },
    {
      "cell_type": "markdown",
      "source": [
        "s의 길이"
      ],
      "metadata": {
        "id": "ZCkvxy4O7waj"
      }
    },
    {
      "cell_type": "code",
      "source": [
        "s[1]+s[3]+s[4:]*5"
      ],
      "metadata": {
        "colab": {
          "base_uri": "https://localhost:8080/",
          "height": 37
        },
        "id": "gLp9CqUK77Dz",
        "outputId": "e9d0ac4e-98b2-4fa9-f389-858461bce584"
      },
      "execution_count": 17,
      "outputs": [
        {
          "output_type": "execute_result",
          "data": {
            "text/plain": [
              "'bdefefefefef'"
            ],
            "application/vnd.google.colaboratory.intrinsic+json": {
              "type": "string"
            }
          },
          "metadata": {},
          "execution_count": 17
        }
      ]
    },
    {
      "cell_type": "markdown",
      "source": [
        "s[4:]: ef"
      ],
      "metadata": {
        "id": "pnE0gklO8G2V"
      }
    },
    {
      "cell_type": "code",
      "source": [
        "s.upper()"
      ],
      "metadata": {
        "colab": {
          "base_uri": "https://localhost:8080/",
          "height": 37
        },
        "id": "ZdWlyUX58S_Y",
        "outputId": "d7c58086-a36e-4dbf-e239-58f5b76ee8af"
      },
      "execution_count": 18,
      "outputs": [
        {
          "output_type": "execute_result",
          "data": {
            "text/plain": [
              "'ABCDEF'"
            ],
            "application/vnd.google.colaboratory.intrinsic+json": {
              "type": "string"
            }
          },
          "metadata": {},
          "execution_count": 18
        }
      ]
    },
    {
      "cell_type": "markdown",
      "source": [
        "in capital letter"
      ],
      "metadata": {
        "id": "XiEQAPV48V9s"
      }
    },
    {
      "cell_type": "code",
      "source": [
        "s='hi my name is wonlee and i like my name'\n",
        "s"
      ],
      "metadata": {
        "colab": {
          "base_uri": "https://localhost:8080/",
          "height": 37
        },
        "id": "nkERt7Fb8VTw",
        "outputId": "e3137957-9bb7-40e0-a08b-99c5c204ce46"
      },
      "execution_count": 43,
      "outputs": [
        {
          "output_type": "execute_result",
          "data": {
            "text/plain": [
              "'hi my name is wonlee and i like my name'"
            ],
            "application/vnd.google.colaboratory.intrinsic+json": {
              "type": "string"
            }
          },
          "metadata": {},
          "execution_count": 43
        }
      ]
    },
    {
      "cell_type": "markdown",
      "source": [
        "셀의 마지막 줄에 s 있으면 print(s)와 같은 효과"
      ],
      "metadata": {
        "id": "0WWbGASd8jsH"
      }
    },
    {
      "cell_type": "code",
      "source": [
        "result=s.find('name')\n",
        "result"
      ],
      "metadata": {
        "colab": {
          "base_uri": "https://localhost:8080/"
        },
        "id": "WqYvG-cI8tA9",
        "outputId": "c631ed24-fea3-41cb-dbfe-11c947d3f4ba"
      },
      "execution_count": 38,
      "outputs": [
        {
          "output_type": "execute_result",
          "data": {
            "text/plain": [
              "6"
            ]
          },
          "metadata": {},
          "execution_count": 38
        }
      ]
    },
    {
      "cell_type": "markdown",
      "source": [
        "name 중에서 제일 먼저 나오는 글자 자리(빈칸포함)"
      ],
      "metadata": {
        "id": "VXN-eG3O-ZYY"
      }
    },
    {
      "cell_type": "code",
      "source": [
        "s=s.strip()\n",
        "s"
      ],
      "metadata": {
        "colab": {
          "base_uri": "https://localhost:8080/",
          "height": 37
        },
        "id": "Q_VNCvQb-hQX",
        "outputId": "ce5d7e8d-344b-4e6d-e131-a5ebf9d847f7"
      },
      "execution_count": 39,
      "outputs": [
        {
          "output_type": "execute_result",
          "data": {
            "text/plain": [
              "'hi my name is wonlee and i like my name'"
            ],
            "application/vnd.google.colaboratory.intrinsic+json": {
              "type": "string"
            }
          },
          "metadata": {},
          "execution_count": 39
        }
      ]
    },
    {
      "cell_type": "markdown",
      "source": [
        "white space 지워라"
      ],
      "metadata": {
        "id": "mj7tqO3k_Ana"
      }
    },
    {
      "cell_type": "code",
      "source": [
        "s=s.split(' ')\n",
        "s"
      ],
      "metadata": {
        "colab": {
          "base_uri": "https://localhost:8080/"
        },
        "id": "fq6G7isQ_EIp",
        "outputId": "dd20a447-04d9-45e7-8d7d-54ee6def7078"
      },
      "execution_count": 40,
      "outputs": [
        {
          "output_type": "execute_result",
          "data": {
            "text/plain": [
              "['hi', 'my', 'name', 'is', 'wonlee', 'and', 'i', 'like', 'my', 'name']"
            ]
          },
          "metadata": {},
          "execution_count": 40
        }
      ]
    },
    {
      "cell_type": "markdown",
      "source": [
        "빈칸을 기준으로 쪼개서 각 단어를 list로 만들어라\n",
        "*'(한칸 띄우고)'"
      ],
      "metadata": {
        "id": "PpUd3yUz_LjT"
      }
    },
    {
      "cell_type": "code",
      "source": [
        "tokens=s.split(' ')\n",
        "tokens\n",
        "s=' '.join(tokens)\n",
        "s"
      ],
      "metadata": {
        "colab": {
          "base_uri": "https://localhost:8080/",
          "height": 37
        },
        "id": "kVwgtbmi_brJ",
        "outputId": "1491a936-3880-490c-81c6-d244f353818e"
      },
      "execution_count": 45,
      "outputs": [
        {
          "output_type": "execute_result",
          "data": {
            "text/plain": [
              "'hi my nickname is wonlee and i like my nickname'"
            ],
            "application/vnd.google.colaboratory.intrinsic+json": {
              "type": "string"
            }
          },
          "metadata": {},
          "execution_count": 45
        }
      ]
    },
    {
      "cell_type": "code",
      "source": [
        "s=s.replace('name', 'nickname')\n",
        "s"
      ],
      "metadata": {
        "colab": {
          "base_uri": "https://localhost:8080/",
          "height": 37
        },
        "id": "WRgNThcDAagD",
        "outputId": "e16899ff-109c-4c2f-9cd5-23bc15d8f6ab"
      },
      "execution_count": 44,
      "outputs": [
        {
          "output_type": "execute_result",
          "data": {
            "text/plain": [
              "'hi my nickname is wonlee and i like my nickname'"
            ],
            "application/vnd.google.colaboratory.intrinsic+json": {
              "type": "string"
            }
          },
          "metadata": {},
          "execution_count": 44
        }
      ]
    },
    {
      "cell_type": "code",
      "source": [
        "def add(a,b):\n",
        "  return a+b\n",
        "def subtract(a,b)\n",
        "  return a-b\n",
        "def multiply(a,b)\n",
        "return a*b\n",
        "def divide(a,b):\n",
        "  return a/b\n"
      ],
      "metadata": {
        "colab": {
          "base_uri": "https://localhost:8080/",
          "height": 130
        },
        "id": "zzQQnyAmBVCY",
        "outputId": "3a899581-8c23-43e8-c125-f89cde5ae841"
      },
      "execution_count": 55,
      "outputs": [
        {
          "output_type": "error",
          "ename": "SyntaxError",
          "evalue": "ignored",
          "traceback": [
            "\u001b[0;36m  File \u001b[0;32m\"<ipython-input-55-7f908e7e42af>\"\u001b[0;36m, line \u001b[0;32m3\u001b[0m\n\u001b[0;31m    def subtract(a,b)\u001b[0m\n\u001b[0m                     ^\u001b[0m\n\u001b[0;31mSyntaxError\u001b[0m\u001b[0;31m:\u001b[0m invalid syntax\n"
          ]
        }
      ]
    },
    {
      "cell_type": "code",
      "source": [
        "c=add(1,2)\n",
        "c"
      ],
      "metadata": {
        "colab": {
          "base_uri": "https://localhost:8080/"
        },
        "id": "R1GIPQ-ZCEZs",
        "outputId": "8e7040b0-ac61-4108-e918-ae8d033cce4f"
      },
      "execution_count": 52,
      "outputs": [
        {
          "output_type": "execute_result",
          "data": {
            "text/plain": [
              "3"
            ]
          },
          "metadata": {},
          "execution_count": 52
        }
      ]
    },
    {
      "cell_type": "code",
      "source": [
        "a=[1,2,3,4]\n",
        "for i in a:\n",
        "  print(i)"
      ],
      "metadata": {
        "colab": {
          "base_uri": "https://localhost:8080/"
        },
        "id": "41h1Q7WVJPBh",
        "outputId": "9a0a6fb7-1378-4334-863f-9e1a7e16ef97"
      },
      "execution_count": 56,
      "outputs": [
        {
          "output_type": "stream",
          "name": "stdout",
          "text": [
            "1\n",
            "2\n",
            "3\n",
            "4\n"
          ]
        }
      ]
    },
    {
      "cell_type": "markdown",
      "source": [
        "a에 있는 것들을 처음부터 i로 하나하나씩 받아서 돌려라"
      ],
      "metadata": {
        "id": "xLW_KXsrJeLl"
      }
    },
    {
      "cell_type": "code",
      "source": [
        "a=[1,2,3,4]\n",
        "for i in range(len(a)):\n",
        "    print(a[i])"
      ],
      "metadata": {
        "colab": {
          "base_uri": "https://localhost:8080/"
        },
        "id": "l0vlwOsgJm81",
        "outputId": "039c4a67-ca3e-4aff-f1ba-b699e3278c2f"
      },
      "execution_count": 59,
      "outputs": [
        {
          "output_type": "stream",
          "name": "stdout",
          "text": [
            "1\n",
            "2\n",
            "3\n",
            "4\n"
          ]
        }
      ]
    },
    {
      "cell_type": "code",
      "source": [
        "a=[1,2,3,4]\n",
        "for i in range(4):\n",
        "    print(a[i])"
      ],
      "metadata": {
        "colab": {
          "base_uri": "https://localhost:8080/"
        },
        "id": "uARNzd7ILFww",
        "outputId": "48fea188-03d7-41b2-baea-cec24243c11d"
      },
      "execution_count": 62,
      "outputs": [
        {
          "output_type": "stream",
          "name": "stdout",
          "text": [
            "1\n",
            "2\n",
            "3\n",
            "4\n"
          ]
        }
      ]
    },
    {
      "cell_type": "markdown",
      "source": [
        "* : 중요!\n",
        "/print 위치 유의"
      ],
      "metadata": {
        "id": "4omZck9GLmEJ"
      }
    },
    {
      "cell_type": "code",
      "source": [
        "a=0\n",
        "if a==0:\n",
        "    print(a)\n",
        "else: \n",
        "     print(a+1)"
      ],
      "metadata": {
        "colab": {
          "base_uri": "https://localhost:8080/"
        },
        "id": "n8N2u1deLzM7",
        "outputId": "7d929dbb-eb49-4cec-8a36-35659a2827f2"
      },
      "execution_count": 63,
      "outputs": [
        {
          "output_type": "stream",
          "name": "stdout",
          "text": [
            "0\n"
          ]
        }
      ]
    },
    {
      "cell_type": "markdown",
      "source": [
        "=: assign\n",
        "/==: 같다\n",
        "/!:아니다\n"
      ],
      "metadata": {
        "id": "zyqZ8eueMOev"
      }
    },
    {
      "cell_type": "code",
      "source": [
        "for i in range(1,3):\n",
        "   for j in range(3,5):\n",
        "       print(i*j)"
      ],
      "metadata": {
        "colab": {
          "base_uri": "https://localhost:8080/"
        },
        "id": "km-PpqJwMYXB",
        "outputId": "6060a62f-f4c8-49b3-dc0f-ffb8ad26c435"
      },
      "execution_count": 70,
      "outputs": [
        {
          "output_type": "stream",
          "name": "stdout",
          "text": [
            "3\n",
            "4\n",
            "6\n",
            "8\n"
          ]
        }
      ]
    },
    {
      "cell_type": "markdown",
      "source": [
        "range (1,3): [1,2]\n",
        "/range (3,5): [3,4]\n",
        "/1 먼저 아래 두개랑 차례로 곱하고 그 다음 2"
      ],
      "metadata": {
        "id": "gO5nyer_P5xT"
      }
    },
    {
      "cell_type": "markdown",
      "source": [
        ""
      ],
      "metadata": {
        "id": "ZgTHtkOxNJ8l"
      }
    },
    {
      "cell_type": "code",
      "source": [
        "a=[1,2,3,4]\n",
        "b=[i for i in a if i>=2]\n",
        "b"
      ],
      "metadata": {
        "colab": {
          "base_uri": "https://localhost:8080/"
        },
        "id": "XY_AA4mzQdFh",
        "outputId": "4dd70517-9209-4d7a-caad-ac6c140d2365"
      },
      "execution_count": 67,
      "outputs": [
        {
          "output_type": "execute_result",
          "data": {
            "text/plain": [
              "[2, 3, 4]"
            ]
          },
          "metadata": {},
          "execution_count": 67
        }
      ]
    },
    {
      "cell_type": "markdown",
      "source": [
        "list comprehension/ 글자의 경우에는 글자수"
      ],
      "metadata": {
        "id": "yOyX5LviQtDk"
      }
    },
    {
      "cell_type": "code",
      "source": [
        "a=['red', 'green', 'blue', 'purple']\n",
        "b=[1,2,3,4]\n",
        "c={a[i]:b[i] for i in range(4)}\n",
        "c"
      ],
      "metadata": {
        "colab": {
          "base_uri": "https://localhost:8080/"
        },
        "id": "HPtfnzrBQxaE",
        "outputId": "1fb5839b-9b8b-4997-b604-6ce5f56e8b3e"
      },
      "execution_count": 68,
      "outputs": [
        {
          "output_type": "execute_result",
          "data": {
            "text/plain": [
              "{'blue': 3, 'green': 2, 'purple': 4, 'red': 1}"
            ]
          },
          "metadata": {},
          "execution_count": 68
        }
      ]
    },
    {
      "cell_type": "markdown",
      "source": [
        "dict comprehension"
      ],
      "metadata": {
        "id": "_nMirRdfRqPp"
      }
    },
    {
      "cell_type": "code",
      "source": [
        "import numpy as np\n",
        "n=np.random.randn(100)"
      ],
      "metadata": {
        "id": "AGY7RQjHLFaR"
      },
      "execution_count": 3,
      "outputs": []
    },
    {
      "cell_type": "code",
      "source": [
        "import matplotlib\n",
        "matplotlib.pyplot.hist(n)"
      ],
      "metadata": {
        "colab": {
          "base_uri": "https://localhost:8080/",
          "height": 350
        },
        "id": "ZbPY0jK7LpVA",
        "outputId": "eafc9054-1504-43b3-e5d4-59a326fb65ec"
      },
      "execution_count": 4,
      "outputs": [
        {
          "output_type": "execute_result",
          "data": {
            "text/plain": [
              "(array([ 6.,  7.,  9., 16., 19., 14., 17.,  9.,  1.,  2.]),\n",
              " array([-2.173122  , -1.7127568 , -1.2523916 , -0.7920264 , -0.33166121,\n",
              "         0.12870399,  0.58906919,  1.04943439,  1.50979958,  1.97016478,\n",
              "         2.43052998]),\n",
              " <a list of 10 Patch objects>)"
            ]
          },
          "metadata": {},
          "execution_count": 4
        },
        {
          "output_type": "display_data",
          "data": {
            "text/plain": [
              "<Figure size 432x288 with 1 Axes>"
            ],
            "image/png": "[encoded data removed]"
          },
          "metadata": {
            "needs_background": "light"
          }
        }
      ]
    },
    {
      "cell_type": "code",
      "source": [
        "import matplotlib.pyplot\n",
        "matplotlib.pyplot.hist(n)"
      ],
      "metadata": {
        "colab": {
          "base_uri": "https://localhost:8080/",
          "height": 350
        },
        "id": "0d7nCXZnL8km",
        "outputId": "fd21df4c-1423-4999-af29-a0efe25b5b87"
      },
      "execution_count": 5,
      "outputs": [
        {
          "output_type": "execute_result",
          "data": {
            "text/plain": [
              "(array([ 6.,  7.,  9., 16., 19., 14., 17.,  9.,  1.,  2.]),\n",
              " array([-2.173122  , -1.7127568 , -1.2523916 , -0.7920264 , -0.33166121,\n",
              "         0.12870399,  0.58906919,  1.04943439,  1.50979958,  1.97016478,\n",
              "         2.43052998]),\n",
              " <a list of 10 Patch objects>)"
            ]
          },
          "metadata": {},
          "execution_count": 5
        },
        {
          "output_type": "display_data",
          "data": {
            "text/plain": [
              "<Figure size 432x288 with 1 Axes>"
            ],
            "image/png": "[encoded data removed]"
          },
          "metadata": {
            "needs_background": "light"
          }
        }
      ]
    },
    {
      "cell_type": "markdown",
      "source": [
        "y축은 frequency"
      ],
      "metadata": {
        "id": "6709BecoMSmQ"
      }
    },
    {
      "cell_type": "code",
      "source": [
        "import numpy as np"
      ],
      "metadata": {
        "id": "JUgotjh5QWV9"
      },
      "execution_count": 2,
      "outputs": []
    },
    {
      "cell_type": "markdown",
      "source": [
        ""
      ],
      "metadata": {
        "id": "MLCK-1BKMSjb"
      }
    },
    {
      "cell_type": "code",
      "source": [
        "x=np.array([1,2,3])\n",
        "print(x)\n",
        "print(type(x))\n",
        "print(x.shape)"
      ],
      "metadata": {
        "colab": {
          "base_uri": "https://localhost:8080/"
        },
        "id": "JWgHKL1tLUSx",
        "outputId": "56f81b23-5379-4152-b0af-a284a4563d4a"
      },
      "execution_count": 4,
      "outputs": [
        {
          "output_type": "stream",
          "name": "stdout",
          "text": [
            "[1 2 3]\n",
            "<class 'numpy.ndarray'>\n",
            "(3,)\n"
          ]
        }
      ]
    },
    {
      "cell_type": "markdown",
      "source": [
        "list를 array로 바꿔라"
      ],
      "metadata": {
        "id": "ZcOp2V94-rWP"
      }
    },
    {
      "cell_type": "code",
      "source": [
        "x= np.arrange(0,10,2)\n",
        "print(x)\n",
        "print(type(x))\n",
        "print(x.shape)"
      ],
      "metadata": {
        "colab": {
          "base_uri": "https://localhost:8080/",
          "height": 334
        },
        "id": "-OJ78I7cQvXb",
        "outputId": "ff93f4db-e07a-4a31-a636-02f8e0369169"
      },
      "execution_count": 5,
      "outputs": [
        {
          "output_type": "error",
          "ename": "AttributeError",
          "evalue": "ignored",
          "traceback": [
            "\u001b[0;31m---------------------------------------------------------------------------\u001b[0m",
            "\u001b[0;31mAttributeError\u001b[0m                            Traceback (most recent call last)",
            "\u001b[0;32m<ipython-input-5-1cdba1720953>\u001b[0m in \u001b[0;36m<module>\u001b[0;34m()\u001b[0m\n\u001b[0;32m----> 1\u001b[0;31m \u001b[0mx\u001b[0m\u001b[0;34m=\u001b[0m \u001b[0mnp\u001b[0m\u001b[0;34m.\u001b[0m\u001b[0marrange\u001b[0m\u001b[0;34m(\u001b[0m\u001b[0;36m0\u001b[0m\u001b[0;34m,\u001b[0m\u001b[0;36m10\u001b[0m\u001b[0;34m,\u001b[0m\u001b[0;36m2\u001b[0m\u001b[0;34m)\u001b[0m\u001b[0;34m\u001b[0m\u001b[0;34m\u001b[0m\u001b[0m\n\u001b[0m\u001b[1;32m      2\u001b[0m \u001b[0mprint\u001b[0m\u001b[0;34m(\u001b[0m\u001b[0mx\u001b[0m\u001b[0;34m)\u001b[0m\u001b[0;34m\u001b[0m\u001b[0;34m\u001b[0m\u001b[0m\n\u001b[1;32m      3\u001b[0m \u001b[0mprint\u001b[0m\u001b[0;34m(\u001b[0m\u001b[0mtype\u001b[0m\u001b[0;34m(\u001b[0m\u001b[0mx\u001b[0m\u001b[0;34m)\u001b[0m\u001b[0;34m)\u001b[0m\u001b[0;34m\u001b[0m\u001b[0;34m\u001b[0m\u001b[0m\n\u001b[1;32m      4\u001b[0m \u001b[0mprint\u001b[0m\u001b[0;34m(\u001b[0m\u001b[0mx\u001b[0m\u001b[0;34m.\u001b[0m\u001b[0mshape\u001b[0m\u001b[0;34m)\u001b[0m\u001b[0;34m\u001b[0m\u001b[0;34m\u001b[0m\u001b[0m\n",
            "\u001b[0;32m/usr/local/lib/python3.7/dist-packages/numpy/__init__.py\u001b[0m in \u001b[0;36m__getattr__\u001b[0;34m(attr)\u001b[0m\n\u001b[1;32m    312\u001b[0m \u001b[0;34m\u001b[0m\u001b[0m\n\u001b[1;32m    313\u001b[0m             raise AttributeError(\"module {!r} has no attribute \"\n\u001b[0;32m--> 314\u001b[0;31m                                  \"{!r}\".format(__name__, attr))\n\u001b[0m\u001b[1;32m    315\u001b[0m \u001b[0;34m\u001b[0m\u001b[0m\n\u001b[1;32m    316\u001b[0m         \u001b[0;32mdef\u001b[0m \u001b[0m__dir__\u001b[0m\u001b[0;34m(\u001b[0m\u001b[0;34m)\u001b[0m\u001b[0;34m:\u001b[0m\u001b[0;34m\u001b[0m\u001b[0;34m\u001b[0m\u001b[0m\n",
            "\u001b[0;31mAttributeError\u001b[0m: module 'numpy' has no attribute 'arrange'"
          ]
        }
      ]
    },
    {
      "cell_type": "markdown",
      "source": [
        "n-dimensional array\n",
        "\n",
        "0 포함 <10까지 2씩 커져라"
      ],
      "metadata": {
        "id": "rzDXRYnz-OTV"
      }
    },
    {
      "cell_type": "code",
      "source": [
        "x=np.linspace(0,10,6)\n",
        "print(x)\n",
        "print(type(x))\n",
        "print(x.shape)"
      ],
      "metadata": {
        "colab": {
          "base_uri": "https://localhost:8080/"
        },
        "id": "F-fxDhgB3I7h",
        "outputId": "d8c0568d-a74a-42f5-e365-2e37034c656f"
      },
      "execution_count": 6,
      "outputs": [
        {
          "output_type": "stream",
          "name": "stdout",
          "text": [
            "[ 0.  2.  4.  6.  8. 10.]\n",
            "<class 'numpy.ndarray'>\n",
            "(6,)\n"
          ]
        }
      ]
    },
    {
      "cell_type": "markdown",
      "source": [
        "0부터 10까지 등분해서 6개 숫자를 만들어라\n",
        "\n",
        "1d"
      ],
      "metadata": {
        "id": "SHVf5w9z-wBa"
      }
    },
    {
      "cell_type": "markdown",
      "source": [
        ""
      ],
      "metadata": {
        "id": "CwLMpan998Ng"
      }
    },
    {
      "cell_type": "code",
      "source": [
        "x=np.array([[1,2,3],[4,5,6]])\n",
        "print(x)\n",
        "print(type(x))\n",
        "print(x.shape)"
      ],
      "metadata": {
        "colab": {
          "base_uri": "https://localhost:8080/"
        },
        "id": "MkOPQg-V9676",
        "outputId": "17366e8e-39d2-45a0-dbee-1a2de0d0d815"
      },
      "execution_count": 7,
      "outputs": [
        {
          "output_type": "stream",
          "name": "stdout",
          "text": [
            "[[1 2 3]\n",
            " [4 5 6]]\n",
            "<class 'numpy.ndarray'>\n",
            "(2, 3)\n"
          ]
        }
      ]
    },
    {
      "cell_type": "markdown",
      "source": [
        "이중list를 array로 만들어라\n",
        "\n",
        "2d\n",
        "\n",
        "2는 위아래 두 줄\n",
        "\n",
        "3은 한 리스트 안 "
      ],
      "metadata": {
        "id": "BywDiFTIAd_V"
      }
    },
    {
      "cell_type": "code",
      "source": [
        "x=np.array([[[1,2,3],[4,5,6]],[[7,8,9],[10,11,12]]])\n",
        "print(x)\n",
        "print(type(x))\n",
        "print(x.shape)"
      ],
      "metadata": {
        "colab": {
          "base_uri": "https://localhost:8080/"
        },
        "id": "_gJifQu9Ay9V",
        "outputId": "7afe6863-acff-4015-fd43-d263e42368c3"
      },
      "execution_count": 8,
      "outputs": [
        {
          "output_type": "stream",
          "name": "stdout",
          "text": [
            "[[[ 1  2  3]\n",
            "  [ 4  5  6]]\n",
            "\n",
            " [[ 7  8  9]\n",
            "  [10 11 12]]]\n",
            "<class 'numpy.ndarray'>\n",
            "(2, 2, 3)\n"
          ]
        }
      ]
    },
    {
      "cell_type": "markdown",
      "source": [
        "3d(nd:제일 끝에 있는 대괄호 개수n)"
      ],
      "metadata": {
        "id": "xpOLotPcBce0"
      }
    },
    {
      "cell_type": "code",
      "source": [
        "x=np.zeros([2,2,3])\n",
        "print(x)\n",
        "print(type(x))\n",
        "print(x.shape)\n",
        "x.reshape(3,2,2)"
      ],
      "metadata": {
        "colab": {
          "base_uri": "https://localhost:8080/"
        },
        "id": "CvXpqeH-BnGC",
        "outputId": "7c272e8a-042a-4a29-85e9-72627cb0e6e1"
      },
      "execution_count": 19,
      "outputs": [
        {
          "output_type": "stream",
          "name": "stdout",
          "text": [
            "[[[0. 0. 0.]\n",
            "  [0. 0. 0.]]\n",
            "\n",
            " [[0. 0. 0.]\n",
            "  [0. 0. 0.]]]\n",
            "<class 'numpy.ndarray'>\n",
            "(2, 2, 3)\n"
          ]
        },
        {
          "output_type": "execute_result",
          "data": {
            "text/plain": [
              "array([[[0., 0.],\n",
              "        [0., 0.]],\n",
              "\n",
              "       [[0., 0.],\n",
              "        [0., 0.]],\n",
              "\n",
              "       [[0., 0.],\n",
              "        [0., 0.]]])"
            ]
          },
          "metadata": {},
          "execution_count": 19
        }
      ]
    },
    {
      "cell_type": "markdown",
      "source": [
        "ones: 1로 채우기\n",
        "\n",
        "zeroes: 0으로 채우기"
      ],
      "metadata": {
        "id": "fyje7pQnCPnF"
      }
    },
    {
      "cell_type": "code",
      "source": [
        "np.random.normal(0,1,[2,3,4])"
      ],
      "metadata": {
        "colab": {
          "base_uri": "https://localhost:8080/"
        },
        "id": "h8kMXycsCPRp",
        "outputId": "353a4039-f99a-4489-c452-356eaeeea672"
      },
      "execution_count": 11,
      "outputs": [
        {
          "output_type": "execute_result",
          "data": {
            "text/plain": [
              "array([[[-1.91579565,  0.08450575, -1.12205009, -0.35800238],\n",
              "        [-0.39195478, -1.96633537, -2.46416081,  1.31217402],\n",
              "        [ 0.99206438,  0.56160694, -1.15193183, -0.20655676]],\n",
              "\n",
              "       [[-1.06139335, -1.52185583,  1.36772132,  0.02510003],\n",
              "        [-0.63179508,  1.17709387,  0.70758993,  0.31773749],\n",
              "        [ 0.22411302,  0.55757151,  0.43565408,  0.71269026]]])"
            ]
          },
          "metadata": {},
          "execution_count": 11
        }
      ]
    },
    {
      "cell_type": "code",
      "source": [
        "import matplotlib.pyplot as plt "
      ],
      "metadata": {
        "id": "yU0bGkI8E6uM"
      },
      "execution_count": 13,
      "outputs": []
    },
    {
      "cell_type": "code",
      "source": [
        "x=np.random.normal(0,1,100)\n",
        "print(x)\n",
        "plt.hist(x,bins=10)"
      ],
      "metadata": {
        "colab": {
          "base_uri": "https://localhost:8080/",
          "height": 639
        },
        "id": "cYhPFY15FE2n",
        "outputId": "5a62dd60-6394-472e-84a4-ee309715e786"
      },
      "execution_count": 14,
      "outputs": [
        {
          "output_type": "stream",
          "name": "stdout",
          "text": [
            "[ 0.45028874  0.46787413  0.02952038 -0.17319941 -1.00378941 -0.44873649\n",
            "  0.03139582  0.25971593 -0.42311238  0.82956983 -1.19601822 -0.71338703\n",
            " -1.93454679 -0.14533659  1.01365661  0.36510707  0.62161942 -0.4312333\n",
            " -0.77885739  0.07510389 -0.26638334 -1.98690724 -2.25121026  0.24589965\n",
            " -0.51817946  0.57681538 -0.27621592  1.54263451 -0.0704628   0.70253029\n",
            "  0.09007285 -0.41620142 -0.39994777 -1.51194333  0.89703986 -0.23980749\n",
            "  0.87210817  0.40617678  0.34599125  0.46198973 -1.98032168 -0.25283064\n",
            "  0.34910116 -1.29915083  0.17031942  1.73638296  0.14342452 -0.81638591\n",
            " -0.43198093  0.76857627  0.33500561  0.83267037 -0.4930337   0.44720494\n",
            " -0.61602659 -1.14464297  1.52559453 -0.83401118 -0.05222061 -1.70566379\n",
            " -0.72033279  1.99223255  0.26979963 -1.57485036 -0.45774934 -1.50345423\n",
            " -0.34782049  0.53146775  0.6419684   0.36436072  0.24072598  2.27000268\n",
            "  0.72955468 -0.56613497 -0.2128539  -1.02178071  0.26750231 -0.14150925\n",
            " -1.24737194 -0.87463123 -2.1681302   0.40792483 -1.44175404 -1.24031787\n",
            " -0.47959048 -1.42479671 -0.19981344 -0.45642842  0.1213335   0.45211025\n",
            "  1.19399402  1.13299806  0.38860763  0.79851111  1.60399427  0.35567117\n",
            " -0.25328595  1.20418595 -1.75748833  0.04853816]\n"
          ]
        },
        {
          "output_type": "execute_result",
          "data": {
            "text/plain": [
              "(array([ 5.,  7.,  7., 14., 18., 25., 14.,  4.,  4.,  2.]),\n",
              " array([-2.25121026, -1.79908896, -1.34696767, -0.89484638, -0.44272508,\n",
              "         0.00939621,  0.4615175 ,  0.9136388 ,  1.36576009,  1.81788138,\n",
              "         2.27000268]),\n",
              " <a list of 10 Patch objects>)"
            ]
          },
          "metadata": {},
          "execution_count": 14
        },
        {
          "output_type": "display_data",
          "data": {
            "text/plain": [
              "<Figure size 432x288 with 1 Axes>"
            ],
            "image/png": "[encoded data removed]"
          },
          "metadata": {
            "needs_background": "light"
          }
        }
      ]
    },
    {
      "cell_type": "markdown",
      "source": [
        "1d\n",
        "\n",
        "normal distribution에 np array 만들어줌\n",
        "\n",
        "긴 한 줄에 숫자 100개\n",
        "\n",
        "\n"
      ],
      "metadata": {
        "id": "53IjfHygI-ze"
      }
    },
    {
      "cell_type": "code",
      "source": [
        "plt. figure( )\n",
        "\n",
        "theta1 = np.linspace(0, 2*np.pi, 100)\n",
        "s1 = np.sin(theta1)\n",
        "theta2= np.linspace(0, 2*np.pi, 100)+ np.pi/2\n",
        "s2 = np.sin(theta2)\n",
        "\n",
        "plt.subplot(2, 1, 1) # (rows, columns, panel number)\n",
        "plt.plot(theta1, s1, '.')\n",
        "plt.subplot(2, 1, 2) # (rows, columns, panel number)\n",
        "plt.plot(theta2, s2, '.')\n"
      ],
      "metadata": {
        "colab": {
          "base_uri": "https://localhost:8080/",
          "height": 282
        },
        "id": "4m9iE8rxLfGM",
        "outputId": "72224faf-d5fd-44a8-daee-8ddfb4099b35"
      },
      "execution_count": 17,
      "outputs": [
        {
          "output_type": "execute_result",
          "data": {
            "text/plain": [
              "[<matplotlib.lines.Line2D at 0x7f466a5548d0>]"
            ]
          },
          "metadata": {},
          "execution_count": 17
        },
        {
          "output_type": "display_data",
          "data": {
            "text/plain": [
              "<Figure size 432x288 with 2 Axes>"
            ],
            "image/png": "[encoded data removed]"
          },
          "metadata": {
            "needs_background": "light"
          }
        }
      ]
    },
    {
      "cell_type": "markdown",
      "source": [
        "sin 곡선을 90도 만큼 이동"
      ],
      "metadata": {
        "id": "J5q9ebnnw8ZW"
      }
    },
    {
      "cell_type": "code",
      "source": [
        "np.corrcoef(s1,s2)"
      ],
      "metadata": {
        "colab": {
          "base_uri": "https://localhost:8080/"
        },
        "id": "QCuzYaWnMg7w",
        "outputId": "aed68019-cfa4-48f3-f5bc-78b4dc344092"
      },
      "execution_count": 16,
      "outputs": [
        {
          "output_type": "execute_result",
          "data": {
            "text/plain": [
              "array([[1.00000000e+00, 2.41915449e-17],\n",
              "       [2.41915449e-17, 1.00000000e+00]])"
            ]
          },
          "metadata": {},
          "execution_count": 16
        }
      ]
    },
    {
      "cell_type": "markdown",
      "source": [
        "correaltion coefficient \n",
        "\n",
        "r 값이 +면 정비례, -면 반비례\n",
        "\n",
        "서로 상관관계가 높다=r의 절대값이 더 1에 가까워짐(그래프 모양이 더 thin)\n",
        "\n",
        "2.41915449e-17=2.41915449*10의 -17승=0\n",
        "\n",
        "->correlation 시키면 0이 나옴"
      ],
      "metadata": {
        "id": "YOWgObdixbq9"
      }
    }
  ]
}